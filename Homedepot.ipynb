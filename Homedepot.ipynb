{
 "cells": [
  {
   "cell_type": "code",
   "execution_count": 6,
   "metadata": {},
   "outputs": [],
   "source": [
    "from product_class import Product\n",
    "from selenium.webdriver.support.ui import WebDriverWait\n",
    "from selenium import webdriver\n",
    "\n",
    "\n",
    "from selenium.webdriver.support.ui import WebDriverWait\n",
    "from selenium.webdriver.support import expected_conditions as EC\n",
    "from IPython.display import display, Image\n",
    "from selenium.webdriver.common.action_chains import ActionChains\n",
    "import time\n",
    "from selenium.webdriver.common.by import By\n",
    "\n",
    "\n",
    "options = webdriver.ChromeOptions()\n",
    "options.add_argument('start-maximized')\n",
    "options.add_argument('--no-sandbox')\n",
    "options.add_argument('--headless')\n",
    "options.add_argument('--disable-gpu')\n",
    "options.add_argument('--disable-dve-shm-uage')\n",
    "\n",
    "\n",
    "# url = 'https://www.homedepot.com/b/Lighting-Ceiling-Fans-Ceiling-Fans-With-Lights/N-5yc1vZcjnu?NCNI-5&searchRedirect=ceiling%20fan%20with%20lights&semanticToken=k27r10r00f22000000000e_202407051741572580635995840_us-central1-bz9l%20k27r10r00f22000000000e%20%3E%20st%3A%7Bceiling%20fan%20with%20lights%7D%3Ast%20ml%3A%7B24%7D%3Aml%20nr%3A%7Bceiling%20fan%20with%20lights%7D%3Anr%20nf%3A%7Bn%2Fa%7D%3Anf%20qu%3A%7Bceiling%20fan%20with%20lights%7D%3Aqu%20ie%3A%7B0%7D%3Aie%20qr%3A%7Bceiling%20fan%20with%20lights%7D%3Aqr'\n",
    "# driver = webdriver.Chrome(options=options)\n",
    "# driver.get(url)"
   ]
  },
  {
   "cell_type": "code",
   "execution_count": 24,
   "metadata": {},
   "outputs": [],
   "source": [
    "def visit_page(driver, url):\n",
    "    driver.get(url)\n",
    "    time.sleep(5)\n",
    "\n",
    "def get_products(driver):\n",
    "    global products, n\n",
    "    grids = driver.find_elements(By.CSS_SELECTOR, '[id^=\"browse-search-pods-\"]')\n",
    "    for grid in grids:\n",
    "        # Scroll into view to ensure boxes are loaded\n",
    "        actions = ActionChains(driver)\n",
    "        actions.move_to_element(grid).perform()\n",
    "        time.sleep(1)\n",
    "        boxes = grid.find_elements(By.CLASS_NAME, 'browse-search__pod')\n",
    "        for box in boxes:\n",
    "            product = Product.from_web_element(box, n) \n",
    "            n += 1\n",
    "            products.append(product)"
   ]
  },
  {
   "cell_type": "code",
   "execution_count": 30,
   "metadata": {},
   "outputs": [],
   "source": [
    "products = []\n",
    "n = 1\n",
    "driver = webdriver.Chrome(options=options)"
   ]
  },
  {
   "cell_type": "code",
   "execution_count": 31,
   "metadata": {},
   "outputs": [],
   "source": [
    "initial_url = 'https://www.homedepot.com/b/Lighting-Ceiling-Fans-Ceiling-Fans-With-Lights/N-5yc1vZcjnu?NCNI-5&searchRedirect=ceiling%20fan%20with%20lights&semanticToken=k27r10r00f22000000000e_202407051741572580635995840_us-central1-bz9l%20k27r10r00f22000000000e%20%3E%20st%3A%7Bceiling%20fan%20with%20lights%7D%3Ast%20ml%3A%7B24%7D%3Aml%20nr%3A%7Bceiling%20fan%20with%20lights%7D%3Anr%20nf%3A%7Bn%2Fa%7D%3Anf%20qu%3A%7Bceiling%20fan%20with%20lights%7D%3Aqu%20ie%3A%7B0%7D%3Aie%20qr%3A%7Bceiling%20fan%20with%20lights%7D%3Aqr'\n",
    "visit_page(driver, initial_url)\n",
    "get_products(driver)"
   ]
  },
  {
   "cell_type": "code",
   "execution_count": 7,
   "metadata": {},
   "outputs": [],
   "source": [
    "url = 'https://www.homedepot.com/b/Lighting-Ceiling-Fans-Ceiling-Fans-With-Lights/N-5yc1vZcjnu?NCNI-5&searchRedirect=ceiling%20fan%20with%20lights&semanticToken=k27r10r00f22000000000e_202407051741572580635995840_us-central1-bz9l%20k27r10r00f22000000000e%20%3E%20st%3A%7Bceiling%20fan%20with%20lights%7D%3Ast%20ml%3A%7B24%7D%3Aml%20nr%3A%7Bceiling%20fan%20with%20lights%7D%3Anr%20nf%3A%7Bn%2Fa%7D%3Anf%20qu%3A%7Bceiling%20fan%20with%20lights%7D%3Aqu%20ie%3A%7B0%7D%3Aie%20qr%3A%7Bceiling%20fan%20with%20lights%7D%3Aqr'\n",
    "driver = webdriver.Chrome(options=options)\n",
    "driver.get(url)\n",
    "time.sleep(5)\n",
    "products = []\n",
    "n = 1\n"
   ]
  },
  {
   "cell_type": "code",
   "execution_count": 33,
   "metadata": {},
   "outputs": [
    {
     "data": {
      "text/plain": [
       "[Product(NO=1, brand=None, title=Hugger 52 in. LED Indoor Black Ceiling Fan with Light Kit, price=$49.98, label=Top Rated, href=https://www.homedepot.com/p/Hugger-52-in-LED-Indoor-Black-Ceiling-Fan-with-Light-Kit-AL383LED-BK/301162049),\n",
       " Product(NO=2, brand=None, title=Bellina 42 in. Oil-Rubbed Bronze Ceiling Fan with Light Kit, price=$59.97, label=Exclusive, href=https://www.homedepot.com/p/Bellina-42-in-Oil-Rubbed-Bronze-Ceiling-Fan-with-Light-Kit-RH5H1-ORB/308062301),\n",
       " Product(NO=3, brand=Hampton Bay, title=Mena 54 in. White Color Changing Integrated LED Indoor/Outdoor Matte Black Ceiling Fan with Light Kit and Remote Control, price=$159.00, label=Exclusive, href=https://www.homedepot.com/p/Hampton-Bay-Mena-54-in-White-Color-Changing-Integrated-LED-Indoor-Outdoor-Matte-Black-Ceiling-Fan-with-Light-Kit-and-Remote-Control-99919/321244251),\n",
       " Product(NO=4, brand=MODERN HABITAT, title=WhisperBloom 52 in. Indoor Satin Brass Ceiling Fan with LED Light Bulbs and Remote Control, price=$149.00, label=Sponsored, href=https://www.homedepot.com/p/MODERN-HABITAT-WhisperBloom-52-in-Indoor-Satin-Brass-Ceiling-Fan-with-LED-Light-Bulbs-and-Remote-Control-CFL-1891-5252BA/328410409),\n",
       " Product(NO=5, brand=None, title=Cassique 52 in, Integrated LED Indoor/Outdoor Matte Black Selectable CCT Ceiling Fan with Light, Remote Control, price=$199.00, label=Exclusive, href=https://www.homedepot.com/p/Cassique-52-in-Integrated-LED-Indoor-Outdoor-Matte-Black-Selectable-CCT-Ceiling-Fan-with-Light-Remote-Control-FR-CSQ52C5-MBBG/328205836),\n",
       " Product(NO=6, brand=None, title=Littleton 42 in. LED Indoor White Ceiling Fan with Light Kit, price=$44.97, label=None, href=https://www.homedepot.com/p/Littleton-42-in-LED-Indoor-White-Ceiling-Fan-with-Light-Kit-UB42S-WH-SH/301756341),\n",
       " Product(NO=7, brand=Bell + Howell, title=15.7 in. Indoor White Ceiling Fan with Remote, LED Light, Socket, price=$49.97, label=None, href=https://www.homedepot.com/p/Bell-Howell-15-7-in-Indoor-White-Ceiling-Fan-with-Remote-LED-Light-Socket-8563ENCBQH/324835719),\n",
       " Product(NO=8, brand=Designers Fountain, title=Cassini 52 in. Smart Indoor/Covered Outdoor Matte Black Modern Adjustable White and RGB Ceiling Fan Light with Remote, price=$199.00, label=Sponsored, href=https://www.homedepot.com/p/Designers-Fountain-Cassini-52-in-Smart-Indoor-Covered-Outdoor-Matte-Black-Modern-Adjustable-White-and-RGB-Ceiling-Fan-Light-with-Remote-FS-CSN52RGB-MB/328196694),\n",
       " Product(NO=9, brand=MODERN HABITAT, title=AuraVista 52 in. Indoor Black Modern Medium Red Oak Ceiling Fan with LED Light Bulbs and Remote Control, price=$145.00, label=Sponsored, href=https://www.homedepot.com/p/MODERN-HABITAT-AuraVista-52-in-Indoor-Black-Modern-Medium-Red-Oak-Ceiling-Fan-with-LED-Light-Bulbs-and-Remote-Control-CFL-1891-5252RB/328430818),\n",
       " Product(NO=10, brand=Home Decorators Collection, title=Merwry 52 in. Integrated LED Indoor Matte Black Ceiling Fan with Light Kit and Remote Control, price=$139.00, label=Best Seller, href=https://www.homedepot.com/p/Home-Decorators-Collection-Merwry-52-in-Integrated-LED-Indoor-Matte-Black-Ceiling-Fan-with-Light-Kit-and-Remote-Control-SW1422MBK/301231214),\n",
       " Product(NO=11, brand=None, title=Clarkston II 44 in. LED Indoor White Ceiling Fan with Light Kit, price=$76.97, label=None, href=https://www.homedepot.com/p/Clarkston-II-44-in-LED-Indoor-White-Ceiling-Fan-with-Light-Kit-SW18030-WH/307738296),\n",
       " Product(NO=12, brand=None, title=48 in. LED Indoor Matte Black Ceiling Fan with Integrated Light Kit and Remote Control, price=$157.59, label=Sponsored, href=https://www.homedepot.com/p/48-in-LED-Indoor-Matte-Black-Ceiling-Fan-with-Integrated-Light-Kit-and-Remote-Control-D1085BK482/323056788),\n",
       " Product(NO=13, brand=Home Decorators Collection, title=Driskol 60 in. White Color Changing LED Matte Black Smart Ceiling Fan with Light Kit and Remote Powered by Hubspace, price=$199.00, label=Best Seller, href=https://www.homedepot.com/p/Home-Decorators-Collection-Driskol-60-in-White-Color-Changing-LED-Matte-Black-Smart-Ceiling-Fan-with-Light-Kit-and-Remote-Powered-by-Hubspace-56052/319830774),\n",
       " Product(NO=14, brand=Home Decorators Collection, title=Ashby Park 52 in. White Color Changing Integrated LED Brushed Nickel Ceiling Fan with Light Kit and Remote Control, price=$149.00, label=Exclusive, href=https://www.homedepot.com/p/Home-Decorators-Collection-Ashby-Park-52-in-White-Color-Changing-Integrated-LED-Brushed-Nickel-Ceiling-Fan-with-Light-Kit-and-Remote-Control-59252/308039187),\n",
       " Product(NO=15, brand=Home Decorators Collection, title=Kensgrove II 72 in. Smart Indoor/Outdoor Matte Black Ceiling Fan with Remote Included Powered by Hubspace, price=$299.00, label=Exclusive, href=https://www.homedepot.com/p/Home-Decorators-Collection-Kensgrove-II-72-in-Smart-Indoor-Outdoor-Matte-Black-Ceiling-Fan-with-Remote-Included-Powered-by-Hubspace-N608-MBK/322984459),\n",
       " Product(NO=16, brand=CARRO, title=Aspen 52 in. Dimmable LED Indoor/Outdoor Black Smart Ceiling Fan with Light and Remote, Works with Alexa/Google Home, price=$169.99, label=Sponsored, href=https://www.homedepot.com/p/CARRO-Aspen-52-in-Dimmable-LED-Indoor-Outdoor-Black-Smart-Ceiling-Fan-with-Light-and-Remote-Works-with-Alexa-Google-Home-HS525J1-L11-B2-1-FM/322672159),\n",
       " Product(NO=17, brand=Hampton Bay, title=Fanelee 54 in. White Color Changing LED Brushed Nickel Smart Ceiling Fan with Light Kit and Remote Powered by Hubspace, price=$189.00, label=Exclusive, href=https://www.homedepot.com/p/Hampton-Bay-Fanelee-54-in-White-Color-Changing-LED-Brushed-Nickel-Smart-Ceiling-Fan-with-Light-Kit-and-Remote-Powered-by-Hubspace-52133/314459956),\n",
       " Product(NO=18, brand=Hampton Bay, title=52 in. Corwin Indoor/Outdoor Matte Black LED Ceiling Fan with Light Kit, price=$99.00, label=Exclusive, href=https://www.homedepot.com/p/Hampton-Bay-52-in-Corwin-Indoor-Outdoor-Matte-Black-LED-Ceiling-Fan-with-Light-Kit-56051/319830773),\n",
       " Product(NO=19, brand=Home Decorators Collection, title=Celene II 62 in. Indoor/Outdoor Matte Black DC Motor Ceiling Fan with Adjustable White Integrated LED w/ Remote Included, price=$239.00, label=None, href=https://www.homedepot.com/p/Home-Decorators-Collection-Celene-II-62-in-Indoor-Outdoor-Matte-Black-DC-Motor-Ceiling-Fan-with-Adjustable-White-Integrated-LED-w-Remote-Included-YG908J-MBK/327551402),\n",
       " Product(NO=20, brand=Home Decorators Collection, title=Makenna 60 in. Indoor/Outdoor Matte Black Ceiling Fan with Integrated LED with Light Kit, DC Motor and Remote, price=$279.00, label=Exclusive, href=https://www.homedepot.com/p/Home-Decorators-Collection-Makenna-60-in-Indoor-Outdoor-Matte-Black-Ceiling-Fan-with-Integrated-LED-with-Light-Kit-DC-Motor-and-Remote-52106/314459955),\n",
       " Product(NO=21, brand=Hampton Bay, title=Mena 44 in. LED Indoor/Outdoor Matte White Ceiling Fan with Light Kit and Reversible Blades Included, price=$99.00, label=Exclusive, href=https://www.homedepot.com/p/Hampton-Bay-Mena-44-in-LED-Indoor-Outdoor-Matte-White-Ceiling-Fan-with-Light-Kit-and-Reversible-Blades-Included-92405/322702218),\n",
       " Product(NO=22, brand=Hunter, title=Dempsey 44 in. Low Profile LED Indoor Fresh White Ceiling Fan with Universal Remote, price=None, label=None, href=https://www.homedepot.com/p/Hunter-Dempsey-44-in-Low-Profile-LED-Indoor-Fresh-White-Ceiling-Fan-with-Universal-Remote-59244/300241335),\n",
       " Product(NO=23, brand=Home Decorators Collection, title=Merwry 52 in. Integrated LED Indoor White Ceiling Fan with Light Kit and Remote Control, price=$114.00, label=Exclusive, href=https://www.homedepot.com/p/Home-Decorators-Collection-Merwry-52-in-Integrated-LED-Indoor-White-Ceiling-Fan-with-Light-Kit-and-Remote-Control-SW1422WH/301231211),\n",
       " Product(NO=24, brand=Home Decorators Collection, title=Celene 62 in. LED Indoor/Outdoor Matte Black Ceiling Fan with Light and Remote Control with Color Changing Technology, price=$239.00, label=Exclusive, href=https://www.homedepot.com/p/Home-Decorators-Collection-Celene-62-in-LED-Indoor-Outdoor-Matte-Black-Ceiling-Fan-with-Light-and-Remote-Control-with-Color-Changing-Technology-YG908A-MBK/314459834),\n",
       " Product(NO=25, brand=Home Decorators Collection, title=Merwry 48 in. Integrated LED Indoor Matte Black Ceiling Fan with Light Kit and Remote Control, price=$95.20, label=Top Rated, href=https://www.homedepot.com/p/Home-Decorators-Collection-Merwry-48-in-Integrated-LED-Indoor-Matte-Black-Ceiling-Fan-with-Light-Kit-and-Remote-Control-SW1422-48in-MBK/314459861),\n",
       " Product(NO=26, brand=Hampton Bay, title=Rothley II 52 in. Indoor LED Bronze Ceiling Fan with Light Kit, Downrod, Reversible Motor and Reversible Blades, price=$82.97, label=None, href=https://www.homedepot.com/p/Hampton-Bay-Rothley-II-52-in-Indoor-LED-Bronze-Ceiling-Fan-with-Light-Kit-Downrod-Reversible-Motor-and-Reversible-Blades-52051/311183306),\n",
       " Product(NO=27, brand=Home Decorators Collection, title=Britton 52 in. Integrated LED Indoor Matte White Ceiling Fan with Light Kit and Remote Control, price=$129.00, label=Exclusive, href=https://www.homedepot.com/p/Home-Decorators-Collection-Britton-52-in-Integrated-LED-Indoor-Matte-White-Ceiling-Fan-with-Light-Kit-and-Remote-Control-SW19110-MWH/314459875),\n",
       " Product(NO=28, brand=Hampton Bay, title=Rockport 52 in. Indoor LED Brushed Nickel Ceiling Fan with Light Kit, Downrod, Reversible Blades and Reversible Motor, price=$94.97, label=Exclusive, href=https://www.homedepot.com/p/Hampton-Bay-Rockport-52-in-Indoor-LED-Brushed-Nickel-Ceiling-Fan-with-Light-Kit-Downrod-Reversible-Blades-and-Reversible-Motor-51750/301136112),\n",
       " Product(NO=29, brand=Hunter, title=Windsail 60 in. Integrated LED Indoor/Outdoor Matte Black Ceiling Fan with Remote Included, price=$279.00, label=None, href=https://www.homedepot.com/p/Hunter-Windsail-60-in-Integrated-LED-Indoor-Outdoor-Matte-Black-Ceiling-Fan-with-Remote-Included-52636/326944235),\n",
       " Product(NO=30, brand=Hampton Bay, title=Averly 52 in. Indoor Matte Black Ceiling Fan with Adjustable White Integrated LED with Remote Control Included, price=$127.20, label=Exclusive, href=https://www.homedepot.com/p/Hampton-Bay-Averly-52-in-Indoor-Matte-Black-Ceiling-Fan-with-Adjustable-White-Integrated-LED-with-Remote-Control-Included-AK18B-MBK/312270317),\n",
       " Product(NO=31, brand=Hampton Bay, title=Glendale III 52 in. LED Indoor Brushed Nickel Ceiling Fan with Light and Pull Chains, price=$79.97, label=None, href=https://www.homedepot.com/p/Hampton-Bay-Glendale-III-52-in-LED-Indoor-Brushed-Nickel-Ceiling-Fan-with-Light-and-Pull-Chains-AK338-BN/320906014),\n",
       " Product(NO=32, brand=Big Ass Fans, title=Haiku L 52 in. Indoor White Ceiling Fan with Integrated LED Light, Works with Alexa, Remote Control Included, price=$541.35, label=None, href=https://www.homedepot.com/p/Big-Ass-Fans-Haiku-L-52-in-Indoor-White-Ceiling-Fan-with-Integrated-LED-Light-Works-with-Alexa-Remote-Control-Included-FR127C-U1H00-3L02-09259-259P610/206890750),\n",
       " Product(NO=33, brand=Home Decorators Collection, title=Palm Cove 52 in. Indoor/Outdoor LED Natural Iron Ceiling Fan with Light Kit, Downrod and Reversible Motor, price=$159.00, label=Exclusive, href=https://www.homedepot.com/p/Home-Decorators-Collection-Palm-Cove-52-in-Indoor-Outdoor-LED-Natural-Iron-Ceiling-Fan-with-Light-Kit-Downrod-and-Reversible-Motor-51422/301161708),\n",
       " Product(NO=34, brand=Home Decorators Collection, title=Merwry 52 in. Intergrated LED Matte White Ceiling Fan With Light And Remote Control, price=$139.00, label=Top Rated, href=https://www.homedepot.com/p/Home-Decorators-Collection-Merwry-52-in-Intergrated-LED-Matte-White-Ceiling-Fan-With-Light-And-Remote-Control-SW1422-MWH/324339720),\n",
       " Product(NO=35, brand=Hampton Bay, title=Sidlow 52 in. Indoor LED Brushed Nickel Hugger Dry Rated Ceiling Fan with 5 QuickInstall Reversible Blades and Light Kit, price=$87.97, label=Exclusive, href=https://www.homedepot.com/p/Hampton-Bay-Sidlow-52-in-Indoor-LED-Brushed-Nickel-Hugger-Dry-Rated-Ceiling-Fan-with-5-QuickInstall-Reversible-Blades-and-Light-Kit-52151/314459957),\n",
       " Product(NO=36, brand=Hunter, title=Oakhurst 52 in. LED Indoor Low Profile New Bronze Ceiling Fan with Light Kit, price=$114.00, label=Exclusive, href=https://www.homedepot.com/p/Hunter-Oakhurst-52-in-LED-Indoor-Low-Profile-New-Bronze-Ceiling-Fan-with-Light-Kit-52016/300593306),\n",
       " Product(NO=37, brand=Home Decorators Collection, title=Mercer 52 in. LED Indoor Brushed Nickel Ceiling Fan with Light Kit and Remote Control, price=$149.00, label=Top Rated, href=https://www.homedepot.com/p/Home-Decorators-Collection-Mercer-52-in-LED-Indoor-Brushed-Nickel-Ceiling-Fan-with-Light-Kit-and-Remote-Control-54725/300654436),\n",
       " Product(NO=38, brand=Hampton Bay, title=Hawkspur 52 in. Indoor/Outdoor Matte Black Low Profile Ceiling Fan with Adjustable White LED with Remote Included, price=$159.00, label=Exclusive, href=https://www.homedepot.com/p/Hampton-Bay-Hawkspur-52-in-Indoor-Outdoor-Matte-Black-Low-Profile-Ceiling-Fan-with-Adjustable-White-LED-with-Remote-Included-AK424-MBK/322921137),\n",
       " Product(NO=39, brand=Home Decorators Collection, title=Ashby Park 44 in. White Color Changing Integrated LED Brushed Nickel Ceiling Fan with Light Kit and 3 Reversible Blades, price=$124.00, label=Top Rated, href=https://www.homedepot.com/p/Home-Decorators-Collection-Ashby-Park-44-in-White-Color-Changing-Integrated-LED-Brushed-Nickel-Ceiling-Fan-with-Light-Kit-and-3-Reversible-Blades-59244/308038103),\n",
       " Product(NO=40, brand=Oaks Aura, title=20in. LED Indoor Black Bladeless Low Profile Ceiling Fan Flush Mount Smart App Remote Control Dimmable Lighting, price=$92.04, label=None, href=https://www.homedepot.com/p/Oaks-Aura-20in-LED-Indoor-Black-Bladeless-Low-Profile-Ceiling-Fan-Flush-Mount-Smart-App-Remote-Control-Dimmable-Lighting-DC2002/324024365),\n",
       " Product(NO=41, brand=Hunter, title=Channing 54 in. Hunter Express Indoor Noble Bronze Ceiling Fan with Remote and Light Kit Included, price=$169.00, label=Exclusive, href=https://www.homedepot.com/p/Hunter-Channing-54-in-Hunter-Express-Indoor-Noble-Bronze-Ceiling-Fan-with-Remote-and-Light-Kit-Included-53366/304357284),\n",
       " Product(NO=42, brand=Home Decorators Collection, title=Merwry 52 in. Integrated LED Indoor Brushed Nickel Ceiling Fan with Light Kit and Remote Control, price=$139.00, label=Top Rated, href=https://www.homedepot.com/p/Home-Decorators-Collection-Merwry-52-in-Integrated-LED-Indoor-Brushed-Nickel-Ceiling-Fan-with-Light-Kit-and-Remote-Control-SW1422BN/301231210),\n",
       " Product(NO=43, brand=Hampton Bay, title=Southwind II 52 in. Indoor LED Brushed Nickel Ceiling Fan with Light Kit, Reversible Blades and Remote Control, price=$114.00, label=Exclusive, href=https://www.homedepot.com/p/Hampton-Bay-Southwind-II-52-in-Indoor-LED-Brushed-Nickel-Ceiling-Fan-with-Light-Kit-Reversible-Blades-and-Remote-Control-50279/312094756),\n",
       " Product(NO=44, brand=Hampton Bay, title=Madison 52 in. Indoor Brushed Nickel Ceiling Fan with Adjustable White Integrated LED with Remote Included, price=$164.00, label=Exclusive, href=https://www.homedepot.com/p/Hampton-Bay-Madison-52-in-Indoor-Brushed-Nickel-Ceiling-Fan-with-Adjustable-White-Integrated-LED-with-Remote-Included-AK30A-BN/312406541),\n",
       " Product(NO=45, brand=Hampton Bay, title=Zandra 52 in. White Changing Integrated LED Brushed Nickel Smart Hubspace Ceiling Fan with Light Kit and Remote Included, price=$209.00, label=Exclusive, href=https://www.homedepot.com/p/Hampton-Bay-Zandra-52-in-White-Changing-Integrated-LED-Brushed-Nickel-Smart-Hubspace-Ceiling-Fan-with-Light-Kit-and-Remote-Included-92380/322700728),\n",
       " Product(NO=46, brand=Hampton Bay, title=Caprice 52 in. Integrated LED Indoor Matte White Ceiling Fan with Light Kit and Remote Control, price=$125.00, label=Top Rated, href=https://www.homedepot.com/p/Hampton-Bay-Caprice-52-in-Integrated-LED-Indoor-Matte-White-Ceiling-Fan-with-Light-Kit-and-Remote-Control-SW19151R-MWH/314459864),\n",
       " Product(NO=47, brand=MINKA-AIRE, title=Light Wave 52 in. Integrated LED Indoor Distressed Koa Ceiling Fan with Light with Remote Control, price=$359.95, label=None, href=https://www.homedepot.com/p/MINKA-AIRE-Light-Wave-52-in-Integrated-LED-Indoor-Distressed-Koa-Ceiling-Fan-with-Light-with-Remote-Control-F844-DK/205376744),\n",
       " Product(NO=48, brand=Home Decorators Collection, title=Levanto 52 in. LED Indoor/Outdoor Matte Black Ceiling Fan with Light, price=$159.00, label=Exclusive, href=https://www.homedepot.com/p/Home-Decorators-Collection-Levanto-52-in-LED-Indoor-Outdoor-Matte-Black-Ceiling-Fan-with-Light-34603/314460002),\n",
       " Product(NO=49, brand=Home Decorators Collection, title=Heritage Point 25 in. Indoor/Outdoor Matte Black Fandelier Ceiling Fan with Adjustable White LED with Remote Included, price=$209.00, label=Exclusive, href=https://www.homedepot.com/p/Home-Decorators-Collection-Heritage-Point-25-in-Indoor-Outdoor-Matte-Black-Fandelier-Ceiling-Fan-with-Adjustable-White-LED-with-Remote-Included-AM909A-MBK/322246411),\n",
       " Product(NO=50, brand=Hampton Bay, title=Rockport II 52 in. Indoor Matte Black LED Ceiling Fan with Light kit, Downrod and Reversible Blades Included, price=$94.97, label=Exclusive, href=https://www.homedepot.com/p/Hampton-Bay-Rockport-II-52-in-Indoor-Matte-Black-LED-Ceiling-Fan-with-Light-kit-Downrod-and-Reversible-Blades-Included-92365/322983527),\n",
       " Product(NO=51, brand=None, title=Brookhurst 52 in. LED Indoor White Ceiling Fan with Light Kit, price=$89.97, label=None, href=https://www.homedepot.com/p/Brookhurst-52-in-LED-Indoor-White-Ceiling-Fan-with-Light-Kit-YG268-WH/300937523),\n",
       " Product(NO=52, brand=Hampton Bay, title=Zandra II 52 in. Smart Indoor/Outdoor Matte Black Ceiling Fan with Light Kit and Remote Included powered by Hubspace, price=$199.99, label=Exclusive, href=https://www.homedepot.com/p/Hampton-Bay-Zandra-II-52-in-Smart-Indoor-Outdoor-Matte-Black-Ceiling-Fan-with-Light-Kit-and-Remote-Included-powered-by-Hubspace-92482/328301421),\n",
       " Product(NO=53, brand=Hunter, title=Invector 60 in. Indoor/Outdoor Matte Black Ceiling Fan with Light and Remote Control, price=$299.00, label=None, href=https://www.homedepot.com/p/Hunter-Invector-60-in-Indoor-Outdoor-Matte-Black-Ceiling-Fan-with-Light-and-Remote-Control-51407/316999729),\n",
       " Product(NO=54, brand=Hampton Bay, title=Scenic 52 in. Integrated LED Indoor Brushed Nickel Hugger Ceiling Fan with Reversible Motor & Reversible Blades Included, price=$119.00, label=Exclusive, href=https://www.homedepot.com/p/Hampton-Bay-Scenic-52-in-Integrated-LED-Indoor-Brushed-Nickel-Hugger-Ceiling-Fan-with-Reversible-Motor-Reversible-Blades-Included-92302/322699756),\n",
       " Product(NO=55, brand=None, title=25 in. Black Farmhouse Ceiling Fan Caged Ceiling Fan Indoor with Lights and Remote Wood Grain Industrial Ceiling Fan, price=$169.12, label=Sponsored, href=https://www.homedepot.com/p/25-in-Black-Farmhouse-Ceiling-Fan-Caged-Ceiling-Fan-Indoor-with-Lights-and-Remote-Wood-Grain-Industrial-Ceiling-Fan-HD-123-001/327379280),\n",
       " Product(NO=56, brand=Sofucor, title=52 in. Indoor/Outdoor Smart Black Wood Ceiling Fan with LED Light and Remote App Control, price=$239.99, label=Sponsored, href=https://www.homedepot.com/p/Sofucor-52-in-Indoor-Outdoor-Smart-Black-Wood-Ceiling-Fan-with-LED-Light-and-Remote-App-Control-T-52K085-BKBK/328964962),\n",
       " Product(NO=57, brand=CARRO, title=Trendsetter 44 in. Dimmable LED Indoor/Outdoor Black Smart Ceiling Fan with Light and Remote, Works w/Alexa/Google Home, price=$179.00, label=Sponsored, href=https://www.homedepot.com/p/CARRO-Trendsetter-44-in-Dimmable-LED-Indoor-Outdoor-Black-Smart-Ceiling-Fan-with-Light-and-Remote-Works-w-Alexa-Google-Home-HS443Q-L12-BG-1/321750728),\n",
       " Product(NO=58, brand=CARRO, title=Granby 52 in. Integrated LED Indoor/Outdoor Black DC Motor Smart Ceiling Fan w/Light/Remote, Works w/Alexa/Google Home, price=$189.00, label=Sponsored, href=https://www.homedepot.com/p/CARRO-Granby-52-in-Integrated-LED-Indoor-Outdoor-Black-DC-Motor-Smart-Ceiling-Fan-w-Light-Remote-Works-w-Alexa-Google-Home-HS525B5-L11-B2-1G-FM/324145971)]"
      ]
     },
     "execution_count": 33,
     "metadata": {},
     "output_type": "execute_result"
    }
   ],
   "source": [
    "products"
   ]
  },
  {
   "cell_type": "code",
   "execution_count": 7,
   "metadata": {},
   "outputs": [
    {
     "data": {
      "text/plain": [
       "{'Hampton Bay': 17,\n",
       " 'MODERN HABITAT': 2,\n",
       " 'Bell + Howell': 1,\n",
       " 'Designers Fountain': 1,\n",
       " 'JONATHAN Y': 2,\n",
       " 'Home Decorators Collection': 17,\n",
       " 'CARRO': 3,\n",
       " 'Hunter': 5,\n",
       " 'Big Ass Fans': 1,\n",
       " 'Oaks Aura': 1,\n",
       " 'MINKA-AIRE': 1}"
      ]
     },
     "execution_count": 7,
     "metadata": {},
     "output_type": "execute_result"
    }
   ],
   "source": [
    "Product.get_brand_counts()"
   ]
  },
  {
   "cell_type": "code",
   "execution_count": 51,
   "metadata": {},
   "outputs": [
    {
     "data": {
      "text/plain": [
       "[Product(NO=12, brand=CARRO, title=Veter 56 in. Dimmable LED Indoor/Outdoor Black Smart Ceiling Fan with Light and Remote, Works with Alexa/Google Home, price=$159.00, label=Sponsored, href=https://www.homedepot.com/p/CARRO-Veter-56-in-Dimmable-LED-Indoor-Outdoor-Black-Smart-Ceiling-Fan-with-Light-and-Remote-Works-with-Alexa-Google-Home-HS563B3-L22-B5-1/318938264)]"
      ]
     },
     "execution_count": 51,
     "metadata": {},
     "output_type": "execute_result"
    }
   ],
   "source": [
    "carro_products = [product for product in products if product.brand == 'CARRO']\n",
    "carro_products"
   ]
  },
  {
   "cell_type": "code",
   "execution_count": 15,
   "metadata": {},
   "outputs": [],
   "source": [
    "pagination_link = WebDriverWait(driver, 10).until(\n",
    "    EC.element_to_be_clickable((By.XPATH, \"//a[contains(@class, 'hd-pagination__link') and contains(text(), '3')]\"))\n",
    ")"
   ]
  },
  {
   "cell_type": "code",
   "execution_count": 16,
   "metadata": {},
   "outputs": [
    {
     "data": {
      "text/plain": [
       "'https://www.homedepot.com/b/Lighting-Ceiling-Fans-Ceiling-Fans-With-Lights/N-5yc1vZcjnu?NCNI-5&searchRedirect=ceiling%20fan%20with%20lights&semanticToken=k27r10r00f22000000000e_202407051741572580635995840_us-central1-bz9l%20k27r10r00f22000000000e%20%3E%20st%3A%7Bceiling%20fan%20with%20lights%7D%3Ast%20ml%3A%7B24%7D%3Aml%20nr%3A%7Bceiling%20fan%20with%20lights%7D%3Anr%20nf%3A%7Bn%2Fa%7D%3Anf%20qu%3A%7Bceiling%20fan%20with%20lights%7D%3Aqu%20ie%3A%7B0%7D%3Aie%20qr%3A%7Bceiling%20fan%20with%20lights%7D%3Aqr&Nao=96'"
      ]
     },
     "execution_count": 16,
     "metadata": {},
     "output_type": "execute_result"
    }
   ],
   "source": [
    "pagination_link.get_attribute('href')"
   ]
  },
  {
   "cell_type": "code",
   "execution_count": 11,
   "metadata": {},
   "outputs": [
    {
     "ename": "ElementClickInterceptedException",
     "evalue": "Message: element click intercepted: Element is not clickable at point (453, 601)\n  (Session info: chrome-headless-shell=126.0.6478.127)\nStacktrace:\n\tGetHandleVerifier [0x00007FF66C35EEA2+31554]\n\t(No symbol) [0x00007FF66C2D7ED9]\n\t(No symbol) [0x00007FF66C19872A]\n\t(No symbol) [0x00007FF66C1F012E]\n\t(No symbol) [0x00007FF66C1EDAF2]\n\t(No symbol) [0x00007FF66C1EAF8B]\n\t(No symbol) [0x00007FF66C1EA156]\n\t(No symbol) [0x00007FF66C1DC151]\n\t(No symbol) [0x00007FF66C20D02A]\n\t(No symbol) [0x00007FF66C1DBA76]\n\t(No symbol) [0x00007FF66C20D240]\n\t(No symbol) [0x00007FF66C22C977]\n\t(No symbol) [0x00007FF66C20CDD3]\n\t(No symbol) [0x00007FF66C1DA33B]\n\t(No symbol) [0x00007FF66C1DAED1]\n\tGetHandleVerifier [0x00007FF66C668B1D+3217341]\n\tGetHandleVerifier [0x00007FF66C6B5AE3+3532675]\n\tGetHandleVerifier [0x00007FF66C6AB0E0+3489152]\n\tGetHandleVerifier [0x00007FF66C40E776+750614]\n\t(No symbol) [0x00007FF66C2E375F]\n\t(No symbol) [0x00007FF66C2DEB14]\n\t(No symbol) [0x00007FF66C2DECA2]\n\t(No symbol) [0x00007FF66C2CE16F]\n\tBaseThreadInitThunk [0x00007FFE10E2257D+29]\n\tRtlUserThreadStart [0x00007FFE12DAAF28+40]\n",
     "output_type": "error",
     "traceback": [
      "\u001b[1;31m---------------------------------------------------------------------------\u001b[0m",
      "\u001b[1;31mElementClickInterceptedException\u001b[0m          Traceback (most recent call last)",
      "Cell \u001b[1;32mIn[11], line 1\u001b[0m\n\u001b[1;32m----> 1\u001b[0m \u001b[43mpagination_link\u001b[49m\u001b[38;5;241;43m.\u001b[39;49m\u001b[43mclick\u001b[49m\u001b[43m(\u001b[49m\u001b[43m)\u001b[49m\n",
      "File \u001b[1;32mc:\\Users\\cs\\AppData\\Local\\Programs\\Python\\Python312\\Lib\\site-packages\\selenium\\webdriver\\remote\\webelement.py:94\u001b[0m, in \u001b[0;36mWebElement.click\u001b[1;34m(self)\u001b[0m\n\u001b[0;32m     92\u001b[0m \u001b[38;5;28;01mdef\u001b[39;00m \u001b[38;5;21mclick\u001b[39m(\u001b[38;5;28mself\u001b[39m) \u001b[38;5;241m-\u001b[39m\u001b[38;5;241m>\u001b[39m \u001b[38;5;28;01mNone\u001b[39;00m:\n\u001b[0;32m     93\u001b[0m \u001b[38;5;250m    \u001b[39m\u001b[38;5;124;03m\"\"\"Clicks the element.\"\"\"\u001b[39;00m\n\u001b[1;32m---> 94\u001b[0m     \u001b[38;5;28;43mself\u001b[39;49m\u001b[38;5;241;43m.\u001b[39;49m\u001b[43m_execute\u001b[49m\u001b[43m(\u001b[49m\u001b[43mCommand\u001b[49m\u001b[38;5;241;43m.\u001b[39;49m\u001b[43mCLICK_ELEMENT\u001b[49m\u001b[43m)\u001b[49m\n",
      "File \u001b[1;32mc:\\Users\\cs\\AppData\\Local\\Programs\\Python\\Python312\\Lib\\site-packages\\selenium\\webdriver\\remote\\webelement.py:395\u001b[0m, in \u001b[0;36mWebElement._execute\u001b[1;34m(self, command, params)\u001b[0m\n\u001b[0;32m    393\u001b[0m     params \u001b[38;5;241m=\u001b[39m {}\n\u001b[0;32m    394\u001b[0m params[\u001b[38;5;124m\"\u001b[39m\u001b[38;5;124mid\u001b[39m\u001b[38;5;124m\"\u001b[39m] \u001b[38;5;241m=\u001b[39m \u001b[38;5;28mself\u001b[39m\u001b[38;5;241m.\u001b[39m_id\n\u001b[1;32m--> 395\u001b[0m \u001b[38;5;28;01mreturn\u001b[39;00m \u001b[38;5;28;43mself\u001b[39;49m\u001b[38;5;241;43m.\u001b[39;49m\u001b[43m_parent\u001b[49m\u001b[38;5;241;43m.\u001b[39;49m\u001b[43mexecute\u001b[49m\u001b[43m(\u001b[49m\u001b[43mcommand\u001b[49m\u001b[43m,\u001b[49m\u001b[43m \u001b[49m\u001b[43mparams\u001b[49m\u001b[43m)\u001b[49m\n",
      "File \u001b[1;32mc:\\Users\\cs\\AppData\\Local\\Programs\\Python\\Python312\\Lib\\site-packages\\selenium\\webdriver\\remote\\webdriver.py:347\u001b[0m, in \u001b[0;36mWebDriver.execute\u001b[1;34m(self, driver_command, params)\u001b[0m\n\u001b[0;32m    345\u001b[0m response \u001b[38;5;241m=\u001b[39m \u001b[38;5;28mself\u001b[39m\u001b[38;5;241m.\u001b[39mcommand_executor\u001b[38;5;241m.\u001b[39mexecute(driver_command, params)\n\u001b[0;32m    346\u001b[0m \u001b[38;5;28;01mif\u001b[39;00m response:\n\u001b[1;32m--> 347\u001b[0m     \u001b[38;5;28;43mself\u001b[39;49m\u001b[38;5;241;43m.\u001b[39;49m\u001b[43merror_handler\u001b[49m\u001b[38;5;241;43m.\u001b[39;49m\u001b[43mcheck_response\u001b[49m\u001b[43m(\u001b[49m\u001b[43mresponse\u001b[49m\u001b[43m)\u001b[49m\n\u001b[0;32m    348\u001b[0m     response[\u001b[38;5;124m\"\u001b[39m\u001b[38;5;124mvalue\u001b[39m\u001b[38;5;124m\"\u001b[39m] \u001b[38;5;241m=\u001b[39m \u001b[38;5;28mself\u001b[39m\u001b[38;5;241m.\u001b[39m_unwrap_value(response\u001b[38;5;241m.\u001b[39mget(\u001b[38;5;124m\"\u001b[39m\u001b[38;5;124mvalue\u001b[39m\u001b[38;5;124m\"\u001b[39m, \u001b[38;5;28;01mNone\u001b[39;00m))\n\u001b[0;32m    349\u001b[0m     \u001b[38;5;28;01mreturn\u001b[39;00m response\n",
      "File \u001b[1;32mc:\\Users\\cs\\AppData\\Local\\Programs\\Python\\Python312\\Lib\\site-packages\\selenium\\webdriver\\remote\\errorhandler.py:229\u001b[0m, in \u001b[0;36mErrorHandler.check_response\u001b[1;34m(self, response)\u001b[0m\n\u001b[0;32m    227\u001b[0m         alert_text \u001b[38;5;241m=\u001b[39m value[\u001b[38;5;124m\"\u001b[39m\u001b[38;5;124malert\u001b[39m\u001b[38;5;124m\"\u001b[39m]\u001b[38;5;241m.\u001b[39mget(\u001b[38;5;124m\"\u001b[39m\u001b[38;5;124mtext\u001b[39m\u001b[38;5;124m\"\u001b[39m)\n\u001b[0;32m    228\u001b[0m     \u001b[38;5;28;01mraise\u001b[39;00m exception_class(message, screen, stacktrace, alert_text)  \u001b[38;5;66;03m# type: ignore[call-arg]  # mypy is not smart enough here\u001b[39;00m\n\u001b[1;32m--> 229\u001b[0m \u001b[38;5;28;01mraise\u001b[39;00m exception_class(message, screen, stacktrace)\n",
      "\u001b[1;31mElementClickInterceptedException\u001b[0m: Message: element click intercepted: Element is not clickable at point (453, 601)\n  (Session info: chrome-headless-shell=126.0.6478.127)\nStacktrace:\n\tGetHandleVerifier [0x00007FF66C35EEA2+31554]\n\t(No symbol) [0x00007FF66C2D7ED9]\n\t(No symbol) [0x00007FF66C19872A]\n\t(No symbol) [0x00007FF66C1F012E]\n\t(No symbol) [0x00007FF66C1EDAF2]\n\t(No symbol) [0x00007FF66C1EAF8B]\n\t(No symbol) [0x00007FF66C1EA156]\n\t(No symbol) [0x00007FF66C1DC151]\n\t(No symbol) [0x00007FF66C20D02A]\n\t(No symbol) [0x00007FF66C1DBA76]\n\t(No symbol) [0x00007FF66C20D240]\n\t(No symbol) [0x00007FF66C22C977]\n\t(No symbol) [0x00007FF66C20CDD3]\n\t(No symbol) [0x00007FF66C1DA33B]\n\t(No symbol) [0x00007FF66C1DAED1]\n\tGetHandleVerifier [0x00007FF66C668B1D+3217341]\n\tGetHandleVerifier [0x00007FF66C6B5AE3+3532675]\n\tGetHandleVerifier [0x00007FF66C6AB0E0+3489152]\n\tGetHandleVerifier [0x00007FF66C40E776+750614]\n\t(No symbol) [0x00007FF66C2E375F]\n\t(No symbol) [0x00007FF66C2DEB14]\n\t(No symbol) [0x00007FF66C2DECA2]\n\t(No symbol) [0x00007FF66C2CE16F]\n\tBaseThreadInitThunk [0x00007FFE10E2257D+29]\n\tRtlUserThreadStart [0x00007FFE12DAAF28+40]\n"
     ]
    }
   ],
   "source": [
    "pagination_link.click()"
   ]
  }
 ],
 "metadata": {
  "kernelspec": {
   "display_name": "Python 3",
   "language": "python",
   "name": "python3"
  },
  "language_info": {
   "codemirror_mode": {
    "name": "ipython",
    "version": 3
   },
   "file_extension": ".py",
   "mimetype": "text/x-python",
   "name": "python",
   "nbconvert_exporter": "python",
   "pygments_lexer": "ipython3",
   "version": "3.12.4"
  }
 },
 "nbformat": 4,
 "nbformat_minor": 2
}
