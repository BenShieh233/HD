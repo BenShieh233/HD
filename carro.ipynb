{
 "cells": [
  {
   "cell_type": "code",
   "execution_count": 1,
   "metadata": {},
   "outputs": [],
   "source": [
    "from carro_scraper import WebPage, wait_for_element"
   ]
  },
  {
   "cell_type": "code",
   "execution_count": 2,
   "metadata": {},
   "outputs": [],
   "source": [
    "import undetected_chromedriver as uc\n",
    "from selenium import webdriver\n",
    "import pandas as pd\n",
    "import time\n",
    "from selenium.webdriver.common.keys import Keys\n",
    "from selenium.webdriver.common.by import By\n",
    "from selenium.webdriver.support import expected_conditions as EC"
   ]
  },
  {
   "cell_type": "code",
   "execution_count": 30,
   "metadata": {},
   "outputs": [],
   "source": [
    "def search_product(product_id):\n",
    "\n",
    "\n",
    "    options = webdriver.ChromeOptions() \n",
    "    options.add_argument('--start-maximized')\n",
    "    options.add_argument('--no-sandbox')\n",
    "    options.add_argument('--headless')\n",
    "    options.add_argument('--disable-gpu')\n",
    "    options.add_argument('--disable-dve-shm-uage')\n",
    "    \n",
    "    driver = uc.Chrome(options=options)\n",
    "\n",
    "    hd_url = 'https://www.homedepot.com/'\n",
    "\n",
    "    driver.get(hd_url)\n",
    "\n",
    "    search_box_xpath = '//*[@id=\"typeahead-search-field-input\"]'\n",
    "\n",
    "    search_box = WebPage.wait_for_element(driver, search_box_xpath)\n",
    "\n",
    "    search_box.send_keys(product_id)\n",
    "    search_box.send_keys(Keys.RETURN) \n",
    "    time.sleep(5) \n",
    "\n",
    "    product = WebPage.from_web_element(driver)\n",
    "\n",
    "    driver.close()\n",
    "\n",
    "    return product\n"
   ]
  },
  {
   "cell_type": "code",
   "execution_count": 25,
   "metadata": {},
   "outputs": [],
   "source": [
    "carro_products = pd.read_excel(\"HD SKU前台数据_080524.xlsx\")\n",
    "carro_products['<ID>'] = carro_products['<ID>'].astype(str)"
   ]
  },
  {
   "cell_type": "code",
   "execution_count": 26,
   "metadata": {},
   "outputs": [
    {
     "data": {
      "text/plain": [
       "'321644000'"
      ]
     },
     "execution_count": 26,
     "metadata": {},
     "output_type": "execute_result"
    }
   ],
   "source": [
    "product_id = carro_products['<ID>'][0]\n",
    "product_id"
   ]
  },
  {
   "cell_type": "code",
   "execution_count": 31,
   "metadata": {},
   "outputs": [
    {
     "name": "stderr",
     "output_type": "stream",
     "text": [
      "could not detect version_main.therefore, we are assuming it is chrome 108 or higher\n"
     ]
    },
    {
     "ename": "KeyboardInterrupt",
     "evalue": "",
     "output_type": "error",
     "traceback": [
      "\u001b[1;31m---------------------------------------------------------------------------\u001b[0m",
      "\u001b[1;31mKeyboardInterrupt\u001b[0m                         Traceback (most recent call last)",
      "Cell \u001b[1;32mIn[31], line 1\u001b[0m\n\u001b[1;32m----> 1\u001b[0m \u001b[43msearch_product\u001b[49m\u001b[43m(\u001b[49m\u001b[43mproduct_id\u001b[49m\u001b[43m)\u001b[49m\n",
      "Cell \u001b[1;32mIn[30], line 25\u001b[0m, in \u001b[0;36msearch_product\u001b[1;34m(product_id)\u001b[0m\n\u001b[0;32m     22\u001b[0m search_box\u001b[38;5;241m.\u001b[39msend_keys(Keys\u001b[38;5;241m.\u001b[39mRETURN) \n\u001b[0;32m     23\u001b[0m time\u001b[38;5;241m.\u001b[39msleep(\u001b[38;5;241m5\u001b[39m) \n\u001b[1;32m---> 25\u001b[0m product \u001b[38;5;241m=\u001b[39m \u001b[43mWebPage\u001b[49m\u001b[38;5;241;43m.\u001b[39;49m\u001b[43mfrom_web_element\u001b[49m\u001b[43m(\u001b[49m\u001b[43mdriver\u001b[49m\u001b[43m)\u001b[49m\n\u001b[0;32m     27\u001b[0m driver\u001b[38;5;241m.\u001b[39mclose()\n\u001b[0;32m     29\u001b[0m \u001b[38;5;28;01mreturn\u001b[39;00m product\n",
      "File \u001b[1;32mc:\\Users\\cs\\OneDrive\\Desktop\\carro\\HD\\carro_scraper.py:80\u001b[0m, in \u001b[0;36mWebPage.from_web_element\u001b[1;34m(cls, driver)\u001b[0m\n\u001b[0;32m     77\u001b[0m     parent_id \u001b[38;5;241m=\u001b[39m \u001b[38;5;28;01mNone\u001b[39;00m\n\u001b[0;32m     79\u001b[0m \u001b[38;5;28;01mtry\u001b[39;00m:\n\u001b[1;32m---> 80\u001b[0m     model \u001b[38;5;241m=\u001b[39m \u001b[38;5;28;43mcls\u001b[39;49m\u001b[38;5;241;43m.\u001b[39;49m\u001b[43mwait_for_element\u001b[49m\u001b[43m(\u001b[49m\u001b[43mdriver\u001b[49m\u001b[43m,\u001b[49m\u001b[43m \u001b[49m\u001b[43mmodel_selector\u001b[49m\u001b[43m)\u001b[49m\n\u001b[0;32m     81\u001b[0m     model \u001b[38;5;241m=\u001b[39m model\u001b[38;5;241m.\u001b[39mtext\n\u001b[0;32m     82\u001b[0m \u001b[38;5;28;01mexcept\u001b[39;00m \u001b[38;5;167;01mException\u001b[39;00m \u001b[38;5;28;01mas\u001b[39;00m e:\n",
      "File \u001b[1;32mc:\\Users\\cs\\OneDrive\\Desktop\\carro\\HD\\carro_scraper.py:52\u001b[0m, in \u001b[0;36mWebPage.wait_for_element\u001b[1;34m(driver, xpath, timeout)\u001b[0m\n\u001b[0;32m     50\u001b[0m \u001b[38;5;129m@staticmethod\u001b[39m\n\u001b[0;32m     51\u001b[0m \u001b[38;5;28;01mdef\u001b[39;00m \u001b[38;5;21mwait_for_element\u001b[39m(driver, xpath, timeout\u001b[38;5;241m=\u001b[39m\u001b[38;5;241m30\u001b[39m):\n\u001b[1;32m---> 52\u001b[0m     \u001b[38;5;28;01mreturn\u001b[39;00m \u001b[43mWebDriverWait\u001b[49m\u001b[43m(\u001b[49m\u001b[43mdriver\u001b[49m\u001b[43m,\u001b[49m\u001b[43m \u001b[49m\u001b[43mtimeout\u001b[49m\u001b[43m)\u001b[49m\u001b[38;5;241;43m.\u001b[39;49m\u001b[43muntil\u001b[49m\u001b[43m(\u001b[49m\n\u001b[0;32m     53\u001b[0m \u001b[43m        \u001b[49m\u001b[43mEC\u001b[49m\u001b[38;5;241;43m.\u001b[39;49m\u001b[43mvisibility_of_element_located\u001b[49m\u001b[43m(\u001b[49m\u001b[43m(\u001b[49m\u001b[43mBy\u001b[49m\u001b[38;5;241;43m.\u001b[39;49m\u001b[43mXPATH\u001b[49m\u001b[43m,\u001b[49m\u001b[43m \u001b[49m\u001b[43mxpath\u001b[49m\u001b[43m)\u001b[49m\u001b[43m)\u001b[49m\n\u001b[0;32m     54\u001b[0m \u001b[43m    \u001b[49m\u001b[43m)\u001b[49m\n",
      "File \u001b[1;32mc:\\Users\\cs\\AppData\\Local\\Programs\\Python\\Python312\\Lib\\site-packages\\selenium\\webdriver\\support\\wait.py:102\u001b[0m, in \u001b[0;36mWebDriverWait.until\u001b[1;34m(self, method, message)\u001b[0m\n\u001b[0;32m    100\u001b[0m     screen \u001b[38;5;241m=\u001b[39m \u001b[38;5;28mgetattr\u001b[39m(exc, \u001b[38;5;124m\"\u001b[39m\u001b[38;5;124mscreen\u001b[39m\u001b[38;5;124m\"\u001b[39m, \u001b[38;5;28;01mNone\u001b[39;00m)\n\u001b[0;32m    101\u001b[0m     stacktrace \u001b[38;5;241m=\u001b[39m \u001b[38;5;28mgetattr\u001b[39m(exc, \u001b[38;5;124m\"\u001b[39m\u001b[38;5;124mstacktrace\u001b[39m\u001b[38;5;124m\"\u001b[39m, \u001b[38;5;28;01mNone\u001b[39;00m)\n\u001b[1;32m--> 102\u001b[0m \u001b[43mtime\u001b[49m\u001b[38;5;241;43m.\u001b[39;49m\u001b[43msleep\u001b[49m\u001b[43m(\u001b[49m\u001b[38;5;28;43mself\u001b[39;49m\u001b[38;5;241;43m.\u001b[39;49m\u001b[43m_poll\u001b[49m\u001b[43m)\u001b[49m\n\u001b[0;32m    103\u001b[0m \u001b[38;5;28;01mif\u001b[39;00m time\u001b[38;5;241m.\u001b[39mmonotonic() \u001b[38;5;241m>\u001b[39m end_time:\n\u001b[0;32m    104\u001b[0m     \u001b[38;5;28;01mbreak\u001b[39;00m\n",
      "\u001b[1;31mKeyboardInterrupt\u001b[0m: "
     ]
    }
   ],
   "source": [
    "search_product(product_id)"
   ]
  },
  {
   "cell_type": "code",
   "execution_count": 8,
   "metadata": {},
   "outputs": [],
   "source": [
    "from concurrent.futures import ThreadPoolExecutor, as_completed"
   ]
  },
  {
   "cell_type": "code",
   "execution_count": 15,
   "metadata": {},
   "outputs": [],
   "source": [
    "def fetch_details_for_all_rows(df):\n",
    "    with ThreadPoolExecutor(max_workers=5) as executor:\n",
    "        future_to_url = {executor.submit(search_product, row['<ID>']): index for index, row in df.iterrows()}\n",
    "        for future in as_completed(future_to_url):\n",
    "            index = future_to_url[future]\n",
    "\n",
    "            try:\n",
    "                detail_info = future.result()\n",
    "                df.at[index, 'Rating'] = detail_info.rating\n",
    "                df.at[index, '2024/8/5 MAP'] = detail_info.price\n",
    "                df.at[index, 'Status(Available/Unavailable/Out of Stock)'] = detail_info.status\n",
    "\n",
    "            except Exception as e:\n",
    "                print(e)\n",
    "\n",
    "    return df"
   ]
  },
  {
   "cell_type": "code",
   "execution_count": 21,
   "metadata": {},
   "outputs": [],
   "source": [
    "df = carro_products.head(2)"
   ]
  },
  {
   "cell_type": "code",
   "execution_count": 18,
   "metadata": {},
   "outputs": [],
   "source": [
    "df.to_excel(\"test.xlsx\")"
   ]
  },
  {
   "cell_type": "code",
   "execution_count": 22,
   "metadata": {},
   "outputs": [
    {
     "name": "stderr",
     "output_type": "stream",
     "text": [
      "C:\\Users\\cs\\AppData\\Local\\Temp\\ipykernel_1448\\238864874.py:3: FutureWarning: Setting an item of incompatible dtype is deprecated and will raise an error in a future version of pandas. Value '4 out of 5' has dtype incompatible with float64, please explicitly cast to a compatible dtype first.\n",
      "  df.at[index, 'Rating'] = product.rating\n",
      "C:\\Users\\cs\\AppData\\Local\\Temp\\ipykernel_1448\\238864874.py:4: FutureWarning: Setting an item of incompatible dtype is deprecated and will raise an error in a future version of pandas. Value '$199.00' has dtype incompatible with float64, please explicitly cast to a compatible dtype first.\n",
      "  df.at[index, '2024/8/5 MAP'] = product.price\n",
      "C:\\Users\\cs\\AppData\\Local\\Temp\\ipykernel_1448\\238864874.py:5: FutureWarning: Setting an item of incompatible dtype is deprecated and will raise an error in a future version of pandas. Value 'Not Available in California' has dtype incompatible with float64, please explicitly cast to a compatible dtype first.\n",
      "  df.at[index, 'Status(Available/Unavailable/Out of Stock)'] = product.status\n"
     ]
    }
   ],
   "source": [
    "for index, row in df.iterrows():\n",
    "    product = search_product(row['<ID>'])\n",
    "    df.at[index, 'Rating'] = product.rating\n",
    "    df.at[index, '2024/8/5 MAP'] = product.price\n",
    "    df.at[index, 'Status(Available/Unavailable/Out of Stock)'] = product.status"
   ]
  },
  {
   "cell_type": "code",
   "execution_count": 23,
   "metadata": {},
   "outputs": [
    {
     "data": {
      "text/html": [
       "<div>\n",
       "<style scoped>\n",
       "    .dataframe tbody tr th:only-of-type {\n",
       "        vertical-align: middle;\n",
       "    }\n",
       "\n",
       "    .dataframe tbody tr th {\n",
       "        vertical-align: top;\n",
       "    }\n",
       "\n",
       "    .dataframe thead th {\n",
       "        text-align: right;\n",
       "    }\n",
       "</style>\n",
       "<table border=\"1\" class=\"dataframe\">\n",
       "  <thead>\n",
       "    <tr style=\"text-align: right;\">\n",
       "      <th></th>\n",
       "      <th>MFG Model #</th>\n",
       "      <th>&lt;ID&gt;</th>\n",
       "      <th>&lt;Object Type Name&gt;</th>\n",
       "      <th>&lt;Parent ID&gt;</th>\n",
       "      <th>Rating</th>\n",
       "      <th>2024/8/5 MAP</th>\n",
       "      <th>Inventory</th>\n",
       "      <th>Status(Available/Unavailable/Out of Stock)</th>\n",
       "      <th>Product Name (120)</th>\n",
       "    </tr>\n",
       "  </thead>\n",
       "  <tbody>\n",
       "    <tr>\n",
       "      <th>0</th>\n",
       "      <td>HC523P-N10-W1-1-FM</td>\n",
       "      <td>321644000</td>\n",
       "      <td>Super SKU Item</td>\n",
       "      <td>321643941</td>\n",
       "      <td>4 out of 5</td>\n",
       "      <td>$199.00</td>\n",
       "      <td>NaN</td>\n",
       "      <td>Not Available in California</td>\n",
       "      <td>Modena 52 in. Indoor White 10-Speed DC Motor F...</td>\n",
       "    </tr>\n",
       "    <tr>\n",
       "      <th>1</th>\n",
       "      <td>HC523P-N10-G2-1-FM</td>\n",
       "      <td>321646581</td>\n",
       "      <td>Super SKU Item</td>\n",
       "      <td>321643941</td>\n",
       "      <td>4 out of 5</td>\n",
       "      <td>$199.00</td>\n",
       "      <td>NaN</td>\n",
       "      <td>Not Available in California</td>\n",
       "      <td>Modena 52 in. Indoor Gold 10-Speed DC Motor Fl...</td>\n",
       "    </tr>\n",
       "  </tbody>\n",
       "</table>\n",
       "</div>"
      ],
      "text/plain": [
       "          MFG Model #       <ID> <Object Type Name> <Parent ID>      Rating  \\\n",
       "0  HC523P-N10-W1-1-FM  321644000     Super SKU Item   321643941  4 out of 5   \n",
       "1  HC523P-N10-G2-1-FM  321646581     Super SKU Item   321643941  4 out of 5   \n",
       "\n",
       "  2024/8/5 MAP  Inventory Status(Available/Unavailable/Out of Stock)  \\\n",
       "0      $199.00        NaN                Not Available in California   \n",
       "1      $199.00        NaN                Not Available in California   \n",
       "\n",
       "                                  Product Name (120)  \n",
       "0  Modena 52 in. Indoor White 10-Speed DC Motor F...  \n",
       "1  Modena 52 in. Indoor Gold 10-Speed DC Motor Fl...  "
      ]
     },
     "execution_count": 23,
     "metadata": {},
     "output_type": "execute_result"
    }
   ],
   "source": [
    "df"
   ]
  }
 ],
 "metadata": {
  "kernelspec": {
   "display_name": ".venv",
   "language": "python",
   "name": "python3"
  },
  "language_info": {
   "codemirror_mode": {
    "name": "ipython",
    "version": 3
   },
   "file_extension": ".py",
   "mimetype": "text/x-python",
   "name": "python",
   "nbconvert_exporter": "python",
   "pygments_lexer": "ipython3",
   "version": "3.12.4"
  }
 },
 "nbformat": 4,
 "nbformat_minor": 2
}
